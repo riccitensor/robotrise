{
 "metadata": {
  "name": "",
  "signature": "sha256:fb1d21ddbe32939d0de4bd9805653a92e89ba41f40f88ecfd7f708f3771461a7"
 },
 "nbformat": 3,
 "nbformat_minor": 0,
 "worksheets": [
  {
   "cells": [
    {
     "cell_type": "code",
     "collapsed": false,
     "input": [],
     "language": "python",
     "metadata": {},
     "outputs": []
    }
   ],
   "metadata": {}
  }
 ]
}